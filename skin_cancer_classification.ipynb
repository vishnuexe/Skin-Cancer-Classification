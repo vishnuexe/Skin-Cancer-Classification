{
  "nbformat": 4,
  "nbformat_minor": 0,
  "metadata": {
    "kernelspec": {
      "display_name": "Python 3",
      "language": "python",
      "name": "python3"
    },
    "language_info": {
      "name": "python",
      "version": "3.6.6",
      "mimetype": "text/x-python",
      "codemirror_mode": {
        "name": "ipython",
        "version": 3
      },
      "pygments_lexer": "ipython3",
      "nbconvert_exporter": "python",
      "file_extension": ".py"
    },
    "colab": {
      "name": "skin-cancer-classification.ipynb",
      "provenance": [],
      "toc_visible": true
    }
  },
  "cells": [
    {
      "cell_type": "markdown",
      "metadata": {
        "_uuid": "b6b7dc30b57234cecf46dbee5458a4554ef11cb0",
        "id": "rd_HWaJgp97O",
        "colab_type": "text"
      },
      "source": [
        "# Skin Cancer Detection\n",
        "\n",
        "\n",
        "Training of neural networks for automated diagnosis of pigmented skin lesions is hampered by the small size and lack of diversity of available dataset of dermatoscopic images. We tackle this problem by releasing the HAM10000 (\"Human Against Machine with 10000 training images\") dataset. We collected dermatoscopic images from different populations, acquired and stored by different modalities. The final dataset consists of 10015 dermatoscopic images which can serve as a training set for academic machine learning purposes. Cases include a representative collection of all important diagnostic categories in the realm of pigmented lesions: Actinic keratoses and intraepithelial carcinoma / Bowen's disease (akiec), basal cell carcinoma (bcc), benign keratosis-like lesions (solar lentigines / seborrheic keratoses and lichen-planus like keratoses, bkl), dermatofibroma (df), melanoma (mel), melanocytic nevi (nv) and vascular lesions (angiomas, angiokeratomas, pyogenic granulomas and hemorrhage, vasc).\n",
        "\n",
        "More than 50% of lesions are confirmed through histopathology (histo), the ground truth for the rest of the cases is either follow-up examination (follow_up), expert consensus (consensus), or confirmation by in-vivo confocal microscopy (confocal). The dataset includes lesions with multiple images, which can be tracked by the lesion_id-column within the HAM10000_metadata file.\n",
        "\n",
        "![skin cancer](http://www.justscience.in/wp-content/uploads/2017/12/what-causes-skin-cancer.jpg)\n",
        "\n",
        "\n",
        "\n"
      ]
    },
    {
      "cell_type": "code",
      "metadata": {
        "_uuid": "8f2839f25d086af736a60e9eeb907d3b93b6e0e5",
        "_cell_guid": "b1076dfc-b9ad-4769-8c92-a6c4dae69d19",
        "trusted": true,
        "id": "hpY_AIGGp97R",
        "colab_type": "code",
        "colab": {}
      },
      "source": [
        "from fastai import *\n",
        "from fastai.vision import *\n",
        "from fastai.callbacks.hooks import *\n",
        "\n",
        "import numpy as np \n",
        "import pandas as pd \n",
        "import seaborn as sns\n",
        "import matplotlib.pyplot as plt\n",
        "from sklearn.metrics import auc,roc_curve\n",
        "\n",
        "import os\n",
        "print(os.listdir(\"/content/\"))"
      ],
      "execution_count": null,
      "outputs": []
    },
    {
      "cell_type": "markdown",
      "metadata": {
        "_uuid": "df29f9196f114a04e92a5937e6cc45c9c97bc8aa",
        "id": "tnj6rOU-p97c",
        "colab_type": "text"
      },
      "source": [
        "## Exploratory Data Analysis"
      ]
    },
    {
      "cell_type": "code",
      "metadata": {
        "trusted": true,
        "_uuid": "ceca286129cf49d760505cd497e17056fbfcca77",
        "id": "znnCOO5kp97j",
        "colab_type": "code",
        "colab": {}
      },
      "source": [
        "# Paths and roots to the important files\n",
        "path='/content/'\n",
        "csv_file='/content/HAM10000_metadata.csv'"
      ],
      "execution_count": null,
      "outputs": []
    },
    {
      "cell_type": "code",
      "metadata": {
        "trusted": true,
        "_uuid": "aa83a883821623b55f8deb83d2fcab2fb3886303",
        "id": "2RQXzPTJp97s",
        "colab_type": "code",
        "colab": {}
      },
      "source": [
        "df=pd.read_csv(csv_file).set_index('image_id')\n",
        "df.head()"
      ],
      "execution_count": null,
      "outputs": []
    },
    {
      "cell_type": "code",
      "metadata": {
        "trusted": true,
        "_uuid": "ea0bf18e51e082faa9bfc016864704d856bdaf0f",
        "id": "IO3qQCqxp970",
        "colab_type": "code",
        "colab": {}
      },
      "source": [
        "# Categories of the diferent diseases\n",
        "lesion_type_dict = {\n",
        "    'nv': 'Melanocytic nevi',\n",
        "    'mel': 'Melanoma',\n",
        "    'bkl': 'Benign keratosis ',\n",
        "    'bcc': 'Basal cell carcinoma',\n",
        "    'akiec': 'Actinic keratoses',\n",
        "    'vasc': 'Vascular lesions',\n",
        "    'df': 'Dermatofibroma'\n",
        "}"
      ],
      "execution_count": null,
      "outputs": []
    },
    {
      "cell_type": "code",
      "metadata": {
        "trusted": true,
        "_uuid": "e58e9c53472157d07751008013dcdff2aa0286b8",
        "id": "-owQWOz-p978",
        "colab_type": "code",
        "colab": {}
      },
      "source": [
        "df.dx=df.dx.astype('category',copy=True)\n",
        "df['labels']=df.dx.cat.codes # Convert the labels to numbers\n",
        "df['lesion']= df.dx.map(lesion_type_dict)\n",
        "df.head()"
      ],
      "execution_count": null,
      "outputs": []
    },
    {
      "cell_type": "code",
      "metadata": {
        "trusted": true,
        "_uuid": "930cdd2ee47a33ba14d2221b871c3d90021a0e70",
        "scrolled": true,
        "id": "6a4lF3Nup98D",
        "colab_type": "code",
        "colab": {}
      },
      "source": [
        "print(df.lesion.value_counts())\n"
      ],
      "execution_count": null,
      "outputs": []
    },
    {
      "cell_type": "code",
      "metadata": {
        "trusted": true,
        "_uuid": "188de54243278d668bca1b4f99daf377f2ee1645",
        "id": "VcduK-Xgp98M",
        "colab_type": "code",
        "colab": {}
      },
      "source": [
        "df.loc['ISIC_0027419','lesion']"
      ],
      "execution_count": null,
      "outputs": []
    },
    {
      "cell_type": "markdown",
      "metadata": {
        "_uuid": "d4b031c44c92198a92359b6b10a55f7d2d3bae0c",
        "id": "P_gf6i2kp98Q",
        "colab_type": "text"
      },
      "source": [
        "## Countplot\n",
        "Here we notice tha we have data imbalance "
      ]
    },
    {
      "cell_type": "code",
      "metadata": {
        "trusted": true,
        "_uuid": "aa4aa7f19eec66137181f93f36e602842ccc7701",
        "id": "ay8Xhwvsp98R",
        "colab_type": "code",
        "colab": {}
      },
      "source": [
        "fig, ax1 = plt.subplots(1, 1, figsize = (10, 5))\n",
        "sns.countplot(y='lesion',data=df, hue=\"lesion\",ax=ax1)"
      ],
      "execution_count": null,
      "outputs": []
    },
    {
      "cell_type": "markdown",
      "metadata": {
        "_uuid": "d767f276d1f923fd5695c13b67166219502a47e8",
        "id": "Z7VDpbHDp98Y",
        "colab_type": "text"
      },
      "source": [
        "## Dataset"
      ]
    },
    {
      "cell_type": "code",
      "metadata": {
        "trusted": true,
        "_uuid": "041953908c95a5ba2c2710012d49edbfb14e306a",
        "id": "_fRhtS1hp98a",
        "colab_type": "code",
        "colab": {}
      },
      "source": [
        "class CustomImageItemList(ImageItemList):\n",
        "    def custom_label(self,df, **kwargs)->'LabelList':\n",
        "        \"\"\"Custom Labels from path\"\"\"\n",
        "        file_names=np.vectorize(lambda files: str(files).split('/')[-1][:-4])\n",
        "        get_labels=lambda x: df.loc[x,'lesion']\n",
        "        #self.items is an np array of PosixPath objects with each image path\n",
        "        labels= get_labels(file_names(self.items))\n",
        "        y = CategoryList(items=labels)\n",
        "        res = self._label_list(x=self,y=y)\n",
        "        return res"
      ],
      "execution_count": null,
      "outputs": []
    },
    {
      "cell_type": "code",
      "metadata": {
        "trusted": true,
        "_uuid": "c2be1d1ebfe17e6678942f7fee436a334e1ac3c6",
        "id": "fs71AJacp98e",
        "colab_type": "code",
        "colab": {}
      },
      "source": [
        "def get_data(bs, size):\n",
        "    train_ds = (CustomImageItemList.from_folder('/content/', extensions='.jpg')\n",
        "                    .random_split_by_pct(0.15)\n",
        "                    .custom_label(df)\n",
        "                    .transform(tfms=get_transforms(flip_vert=True),size=size)\n",
        "                    .databunch(num_workers=2, bs=bs)\n",
        "                    .normalize(imagenet_stats))\n",
        "    return train_ds"
      ],
      "execution_count": null,
      "outputs": []
    },
    {
      "cell_type": "code",
      "metadata": {
        "trusted": true,
        "_uuid": "ed3e7a2c4b132e8bec9d795dc311ad0f05865fdc",
        "id": "S2J0vLp1p98k",
        "colab_type": "code",
        "colab": {}
      },
      "source": [
        "data=get_data(16,224)"
      ],
      "execution_count": null,
      "outputs": []
    },
    {
      "cell_type": "code",
      "metadata": {
        "trusted": true,
        "_uuid": "5b5eaca716fadcf49dfc9a3bfdbf7e384b3ffc38",
        "id": "cYEacZGrp98r",
        "colab_type": "code",
        "colab": {}
      },
      "source": [
        "data.classes=list(np.unique(df.lesion))  \n",
        "data.c= len(np.unique(df.lesion))  "
      ],
      "execution_count": null,
      "outputs": []
    },
    {
      "cell_type": "code",
      "metadata": {
        "trusted": true,
        "_uuid": "d68fcda63a98f92728d6015b1cb0dbbf3e3b3eca",
        "id": "b79hCtc2p98w",
        "colab_type": "code",
        "colab": {}
      },
      "source": [
        "data.show_batch(rows=3)"
      ],
      "execution_count": null,
      "outputs": []
    },
    {
      "cell_type": "markdown",
      "metadata": {
        "_uuid": "2c4bb6b7f4973f247c8be0d7cd65d0394630c820",
        "id": "sOoblf8Pp981",
        "colab_type": "text"
      },
      "source": [
        "## Model ResNet50 "
      ]
    },
    {
      "cell_type": "code",
      "metadata": {
        "trusted": true,
        "_uuid": "242f5ce37bcc315f4f765f6d115118d53519dca6",
        "id": "PQ2c8s0Sp981",
        "colab_type": "code",
        "colab": {
          "base_uri": "https://localhost:8080/",
          "height": 171
        },
        "outputId": "86b69a83-d52a-4e9c-c37b-56d4c8dff1f5"
      },
      "source": [
        "learner=create_cnn(data,models.resnet50,metrics=[accuracy], model_dir=\"/tmp/model/\")"
      ],
      "execution_count": 1,
      "outputs": [
        {
          "output_type": "error",
          "ename": "NameError",
          "evalue": "ignored",
          "traceback": [
            "\u001b[0;31m---------------------------------------------------------------------------\u001b[0m",
            "\u001b[0;31mNameError\u001b[0m                                 Traceback (most recent call last)",
            "\u001b[0;32m<ipython-input-1-f90aede34695>\u001b[0m in \u001b[0;36m<module>\u001b[0;34m()\u001b[0m\n\u001b[0;32m----> 1\u001b[0;31m \u001b[0mlearner\u001b[0m\u001b[0;34m=\u001b[0m\u001b[0mcreate_cnn\u001b[0m\u001b[0;34m(\u001b[0m\u001b[0mdata\u001b[0m\u001b[0;34m,\u001b[0m\u001b[0mmodels\u001b[0m\u001b[0;34m.\u001b[0m\u001b[0mresnet50\u001b[0m\u001b[0;34m,\u001b[0m\u001b[0mmetrics\u001b[0m\u001b[0;34m=\u001b[0m\u001b[0;34m[\u001b[0m\u001b[0maccuracy\u001b[0m\u001b[0;34m]\u001b[0m\u001b[0;34m,\u001b[0m \u001b[0mmodel_dir\u001b[0m\u001b[0;34m=\u001b[0m\u001b[0;34m\"/tmp/model/\"\u001b[0m\u001b[0;34m)\u001b[0m\u001b[0;34m\u001b[0m\u001b[0;34m\u001b[0m\u001b[0m\n\u001b[0m",
            "\u001b[0;31mNameError\u001b[0m: name 'create_cnn' is not defined"
          ]
        }
      ]
    },
    {
      "cell_type": "code",
      "metadata": {
        "trusted": true,
        "_uuid": "d33c4c3bcaf1e248c0f919227cdd61d473331c7d",
        "id": "uh9ZxcOXp99E",
        "colab_type": "code",
        "colab": {
          "base_uri": "https://localhost:8080/",
          "height": 171
        },
        "outputId": "c5d3eff7-c1d4-40ba-8fc8-c7e9966f82dc"
      },
      "source": [
        "learner.loss_func=nn.CrossEntropyLoss()"
      ],
      "execution_count": 2,
      "outputs": [
        {
          "output_type": "error",
          "ename": "NameError",
          "evalue": "ignored",
          "traceback": [
            "\u001b[0;31m---------------------------------------------------------------------------\u001b[0m",
            "\u001b[0;31mNameError\u001b[0m                                 Traceback (most recent call last)",
            "\u001b[0;32m<ipython-input-2-b9628ddc641d>\u001b[0m in \u001b[0;36m<module>\u001b[0;34m()\u001b[0m\n\u001b[0;32m----> 1\u001b[0;31m \u001b[0mlearner\u001b[0m\u001b[0;34m.\u001b[0m\u001b[0mloss_func\u001b[0m\u001b[0;34m=\u001b[0m\u001b[0mnn\u001b[0m\u001b[0;34m.\u001b[0m\u001b[0mCrossEntropyLoss\u001b[0m\u001b[0;34m(\u001b[0m\u001b[0;34m)\u001b[0m\u001b[0;34m\u001b[0m\u001b[0;34m\u001b[0m\u001b[0m\n\u001b[0m",
            "\u001b[0;31mNameError\u001b[0m: name 'nn' is not defined"
          ]
        }
      ]
    },
    {
      "cell_type": "code",
      "metadata": {
        "trusted": true,
        "_uuid": "662fcef191fcf8089f3b9ceafa89ef8f80a12588",
        "id": "InE7aXt_p99K",
        "colab_type": "code",
        "colab": {}
      },
      "source": [
        "learner.lr_find()\n",
        "learner.recorder.plot()"
      ],
      "execution_count": null,
      "outputs": []
    },
    {
      "cell_type": "code",
      "metadata": {
        "trusted": true,
        "_uuid": "ad25d50c133e3dfdce0dfc7afda3539e2f4cab55",
        "scrolled": true,
        "id": "28TuaQgfp99O",
        "colab_type": "code",
        "colab": {}
      },
      "source": [
        "learner.fit_one_cycle(10, 3e-3)"
      ],
      "execution_count": null,
      "outputs": []
    },
    {
      "cell_type": "code",
      "metadata": {
        "trusted": true,
        "_uuid": "9cb682c67a2ae94e395f0c6c02c0b7a1c33a579f",
        "id": "f6VOET6Np99S",
        "colab_type": "code",
        "colab": {}
      },
      "source": [
        "learner.unfreeze()"
      ],
      "execution_count": null,
      "outputs": []
    },
    {
      "cell_type": "code",
      "metadata": {
        "trusted": true,
        "_uuid": "ed5d57b2d2f942401a6b6ee23bf27fae6675e344",
        "id": "135_bxGNp99W",
        "colab_type": "code",
        "colab": {}
      },
      "source": [
        "learner.lr_find()\n",
        "learner.recorder.plot()"
      ],
      "execution_count": null,
      "outputs": []
    },
    {
      "cell_type": "code",
      "metadata": {
        "trusted": true,
        "_uuid": "bc733770a4e24caff4460e007027c97ee7a2f5dd",
        "id": "CUNq8-oTp99b",
        "colab_type": "code",
        "colab": {}
      },
      "source": [
        "lr=1e-6\n",
        "learner.fit_one_cycle(3, slice(3*lr,10*lr))"
      ],
      "execution_count": null,
      "outputs": []
    },
    {
      "cell_type": "code",
      "metadata": {
        "trusted": true,
        "_uuid": "b950cee0c5aadfd0cabdeafd8f4c2adebda47e80",
        "id": "gx7fr0ujp99g",
        "colab_type": "code",
        "colab": {}
      },
      "source": [
        "learner.save('stage-1')"
      ],
      "execution_count": null,
      "outputs": []
    },
    {
      "cell_type": "code",
      "metadata": {
        "trusted": true,
        "_uuid": "d714c6d2aeff43db0c3033e66cf7f0ea0d16c644",
        "id": "wc5Zvq6dp99l",
        "colab_type": "code",
        "colab": {}
      },
      "source": [
        "interp = ClassificationInterpretation.from_learner(learner)"
      ],
      "execution_count": null,
      "outputs": []
    },
    {
      "cell_type": "code",
      "metadata": {
        "trusted": true,
        "scrolled": true,
        "_uuid": "25756596e2daf1586af5e4a86b3095232f1006be",
        "id": "plUY7k9Up99o",
        "colab_type": "code",
        "colab": {}
      },
      "source": [
        "interp.plot_confusion_matrix(figsize=(10,8))"
      ],
      "execution_count": null,
      "outputs": []
    },
    {
      "cell_type": "code",
      "metadata": {
        "trusted": true,
        "_uuid": "a9b548ac68f5bf232fe5087ea892a08b702f4960",
        "id": "_CFIoIgzp99t",
        "colab_type": "code",
        "colab": {}
      },
      "source": [
        "interp.most_confused()"
      ],
      "execution_count": null,
      "outputs": []
    },
    {
      "cell_type": "markdown",
      "metadata": {
        "_uuid": "3abded89a232921a48e9dfdd7a84ef8934db70a9",
        "id": "iTBQ-NEop99w",
        "colab_type": "text"
      },
      "source": [
        "## Inference"
      ]
    },
    {
      "cell_type": "code",
      "metadata": {
        "trusted": true,
        "_uuid": "ba89eaa6bb7e5e5f4faeacf073deee90a9483c22",
        "id": "w6BLQMBzp99w",
        "colab_type": "code",
        "colab": {}
      },
      "source": [
        "pred_data=get_data(16,224)"
      ],
      "execution_count": null,
      "outputs": []
    },
    {
      "cell_type": "code",
      "metadata": {
        "trusted": true,
        "_uuid": "14e667a25f84dc92eaca274c306ed805de903cc5",
        "id": "I1O7xJbTp990",
        "colab_type": "code",
        "colab": {}
      },
      "source": [
        "pred_data.classes=list(np.unique(df.lesion))  \n",
        "pred_data.c= len(np.unique(df.lesion)) "
      ],
      "execution_count": null,
      "outputs": []
    },
    {
      "cell_type": "code",
      "metadata": {
        "trusted": true,
        "_uuid": "ddfd7abfe1716e99af276be82af5eacc3e520281",
        "id": "49ntjtlep993",
        "colab_type": "code",
        "colab": {}
      },
      "source": [
        "pred_data.single_from_classes(path, pred_data.classes)"
      ],
      "execution_count": null,
      "outputs": []
    },
    {
      "cell_type": "code",
      "metadata": {
        "trusted": true,
        "_uuid": "e7395af2b7d5a1a502aa3a76daa2fc8f920d845e",
        "id": "rA1yOFRqp997",
        "colab_type": "code",
        "colab": {}
      },
      "source": [
        "predictor = create_cnn(pred_data, models.resnet50, model_dir=\"/tmp/model/\").load('stage-1')"
      ],
      "execution_count": null,
      "outputs": []
    },
    {
      "cell_type": "code",
      "metadata": {
        "trusted": true,
        "_uuid": "ac3269a1cf9d52548fd4ff8eebb29c794b9b8034",
        "id": "JNKtaUyep99-",
        "colab_type": "code",
        "colab": {}
      },
      "source": [
        "img = open_image('/content/ham10000_images_part_2/ISIC_0029886.jpg')\n",
        "img"
      ],
      "execution_count": null,
      "outputs": []
    },
    {
      "cell_type": "code",
      "metadata": {
        "trusted": true,
        "_uuid": "767531600ec5abe13c174d66e412be97dd3b6af3",
        "id": "tNLWoXcPp9-B",
        "colab_type": "code",
        "colab": {}
      },
      "source": [
        "pred_class,pred_idx,outputs = predictor.predict(img)\n",
        "pred_class"
      ],
      "execution_count": null,
      "outputs": []
    },
    {
      "cell_type": "markdown",
      "metadata": {
        "_uuid": "0465a64fa54e721a9b3619cf0812a0cbc95eb662",
        "id": "stsBFpQop9-E",
        "colab_type": "text"
      },
      "source": [
        "## Predictions"
      ]
    },
    {
      "cell_type": "code",
      "metadata": {
        "trusted": true,
        "_uuid": "1a8e3dc8904c4eaaa813a2153d04bdc42c718a15",
        "id": "xKPWeEixp9-E",
        "colab_type": "code",
        "colab": {}
      },
      "source": [
        "# Predictions of the validation data\n",
        "preds_val, y_val=learner.get_preds()"
      ],
      "execution_count": null,
      "outputs": []
    },
    {
      "cell_type": "markdown",
      "metadata": {
        "_uuid": "28a5f8aaa572c030cd5a47105418350129d7924e",
        "id": "p0SMFJzgp9-H",
        "colab_type": "text"
      },
      "source": [
        "### Roc Curve\n",
        "With the ROC curve we will mesuare how good it's our model"
      ]
    },
    {
      "cell_type": "code",
      "metadata": {
        "trusted": true,
        "_uuid": "f7028c456974e19e74393c04cabd95742ca379d8",
        "id": "CuxnqNOwp9-H",
        "colab_type": "code",
        "colab": {}
      },
      "source": [
        "#  ROC curve\n",
        "fpr, tpr, thresholds = roc_curve(y_val.numpy(), preds_val.numpy()[:,1], pos_label=1)\n",
        "\n",
        "#  ROC area\n",
        "pred_score = auc(fpr, tpr)\n",
        "print(f'ROC area is {pred_score}')"
      ],
      "execution_count": null,
      "outputs": []
    },
    {
      "cell_type": "code",
      "metadata": {
        "trusted": true,
        "_uuid": "59641b64992e6a05d98caa1686b36709425a5c56",
        "id": "xANXxWTmp9-K",
        "colab_type": "code",
        "colab": {}
      },
      "source": [
        "plt.figure()\n",
        "plt.plot(fpr, tpr, color='orange', label='ROC curve (area = %0.2f)' % pred_score)\n",
        "plt.plot([0, 1], [0, 1], color='navy', linestyle='--')\n",
        "plt.xlim([-0.01, 1.0])\n",
        "plt.ylim([0.0, 1.01])\n",
        "plt.xlabel('False Positive Rate')\n",
        "plt.ylabel('True Positive Rate')\n",
        "plt.title('Receiver Operating Characteristic')\n",
        "plt.legend(loc=\"lower right\")"
      ],
      "execution_count": null,
      "outputs": []
    },
    {
      "cell_type": "markdown",
      "metadata": {
        "trusted": true,
        "_uuid": "68ff85fd3d17a8061631dc001d7c6c6316b106f2",
        "id": "OiveW18Jp9-O",
        "colab_type": "text"
      },
      "source": [
        "## Heatmap"
      ]
    },
    {
      "cell_type": "code",
      "metadata": {
        "trusted": true,
        "_uuid": "76d87bee9269e735233425ae66e01ed61aba9587",
        "id": "ZX-WLGYSp9-P",
        "colab_type": "code",
        "colab": {}
      },
      "source": [
        "x,y = data.valid_ds[2]\n",
        "x.show()\n",
        "data.valid_ds.y[2]"
      ],
      "execution_count": null,
      "outputs": []
    },
    {
      "cell_type": "code",
      "metadata": {
        "trusted": true,
        "_uuid": "346bf0b686e68a0d515523e16a3a79cecf646529",
        "id": "gGGzCiKmp9-S",
        "colab_type": "code",
        "colab": {}
      },
      "source": [
        "def heatMap(x,y,data, learner, size=(0,224,224,0)):\n",
        "    \"\"\"HeatMap\"\"\"\n",
        "    \n",
        "    # Evaluation mode\n",
        "    m=learner.model.eval()\n",
        "    \n",
        "    # Denormalize the image\n",
        "    xb,_ = data.one_item(x)\n",
        "    xb_im = Image(data.denorm(xb)[0])\n",
        "    xb = xb.cuda()\n",
        "    \n",
        "    # hook the activations\n",
        "    with hook_output(m[0]) as hook_a: \n",
        "        with hook_output(m[0], grad=True) as hook_g:\n",
        "            preds = m(xb)\n",
        "            preds[0,int(y)].backward()\n",
        "\n",
        "    # Activations    \n",
        "    acts=hook_a.stored[0].cpu()\n",
        "    \n",
        "    # Avg of the activations\n",
        "    avg_acts=acts.mean(0)\n",
        "    \n",
        "    # Show HeatMap\n",
        "    _,ax = plt.subplots()\n",
        "    xb_im.show(ax)\n",
        "    ax.imshow(avg_acts, alpha=0.6, extent=size,\n",
        "              interpolation='bilinear', cmap='magma')\n",
        "    "
      ],
      "execution_count": null,
      "outputs": []
    },
    {
      "cell_type": "code",
      "metadata": {
        "trusted": true,
        "_uuid": "afa3c92c8f26da6ed51861684f2fa614314f3a2d",
        "id": "e6njL9Mop9-V",
        "colab_type": "code",
        "colab": {}
      },
      "source": [
        "heatMap(x,y,pred_data,learner)"
      ],
      "execution_count": null,
      "outputs": []
    }
  ]
}